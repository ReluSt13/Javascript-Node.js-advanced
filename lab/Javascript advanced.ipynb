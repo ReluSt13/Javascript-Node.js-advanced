{
 "cells": [
  {
   "cell_type": "markdown",
   "metadata": {},
   "source": [
    "## Javascript advanced "
   ]
  },
  {
   "cell_type": "code",
   "execution_count": null,
   "metadata": {},
   "outputs": [],
   "source": [
    "'use strict';"
   ]
  },
  {
   "cell_type": "markdown",
   "metadata": {},
   "source": [
    "### Prototype inheritance"
   ]
  },
  {
   "cell_type": "markdown",
   "metadata": {},
   "source": [
    "JavaScript objects are dynamic \"bags\" of properties (referred to as own properties)."
   ]
  },
  {
   "cell_type": "code",
   "execution_count": null,
   "metadata": {},
   "outputs": [],
   "source": [
    "const gigel = {\n",
    "    a: 1,\n",
    "    b: 2\n",
    "};\n",
    "console.log(Object.getOwnPropertyNames(gigel));\n",
    "\n",
    "gigel.c = 3;\n",
    "console.log(Object.getOwnPropertyNames(gigel));\n",
    "\n",
    "delete gigel.b;\n",
    "console.log(Object.getOwnPropertyNames(gigel));"
   ]
  },
  {
   "cell_type": "markdown",
   "metadata": {},
   "source": [
    "JavaScript objects have a link to a prototype object. \n",
    "When trying to access a property of an object, the property will not only be sought on the object but on the prototype of the object and recursively on its ancestors."
   ]
  },
  {
   "cell_type": "code",
   "execution_count": null,
   "metadata": {},
   "outputs": [],
   "source": [
    "function OldSchoolJsClass() {\n",
    "    this.a = 1;\n",
    "    this.b = 2;\n",
    "}\n",
    "/**\n",
    " * BIG WARNING: This is the func.prototype property of functions != Object.getPrototypeOf() of objects.\n",
    " * It specifies the [[Prototype]] to be assigned to all instances of objects \n",
    " * created by the given function when used as a constructor.\n",
    " */\n",
    "console.log('OldSchoolJsClass.prototype != Object.getPrototypeOf(OldSchoolJsClass)');\n",
    "console.log(OldSchoolJsClass.prototype);\n",
    "console.log(Object.getPrototypeOf(OldSchoolJsClass).toString());\n",
    "console.log(OldSchoolJsClass.__proto__.toString());\n",
    "\n",
    "OldSchoolJsClass.prototype.b = 3;\n",
    "OldSchoolJsClass.prototype.c = 4;"
   ]
  },
  {
   "cell_type": "code",
   "execution_count": null,
   "metadata": {
    "scrolled": true
   },
   "outputs": [],
   "source": [
    "const ionel = new OldSchoolJsClass();\n",
    "\n",
    "console.log(Object.getOwnPropertyNames(ionel));\n",
    "console.log(Object.getPrototypeOf(ionel));\n",
    "\n",
    "console.log(`a=${ionel.a}, b=${ionel.b}, c=${ionel.c}`);"
   ]
  },
  {
   "cell_type": "markdown",
   "metadata": {},
   "source": [
    "JavaScript does not have \"methods\" in the form that class-based languages define them. In JavaScript, any function can be added to an object in the form of a property."
   ]
  },
  {
   "cell_type": "code",
   "execution_count": null,
   "metadata": {},
   "outputs": [],
   "source": [
    "OldSchoolJsClass.prototype.incrementA = function (value) {\n",
    "    console.log(`[BEFORE]: this.a=${this.a}`);\n",
    "    this.a += value;\n",
    "    console.log(`[AFTER]: this.a=${this.a}`);\n",
    "};\n",
    "\n",
    "ionel.incrementA(5);\n",
    "\n",
    "// Extremly frequent mistake\n",
    "setTimeout(/* function: */ ionel.incrementA, /* delay: */ 1000, /* arg1: */ 5);\n",
    "\n",
    "// Always bind the method to the instance before passing it as a reference\n",
    "setTimeout(ionel.incrementA.bind(ionel), 1000, 5);"
   ]
  },
  {
   "cell_type": "code",
   "execution_count": null,
   "metadata": {},
   "outputs": [],
   "source": [
    "function AnotherOldJsClass() {\n",
    "    this.x = 1;\n",
    "    this.y = 2;\n",
    "    this.a = 10;\n",
    "}\n",
    "\n",
    "const costel = new AnotherOldJsClass();\n",
    "OldSchoolJsClass.prototype.incrementA.call(costel, 5);\n",
    "// why calling costel.incrementA(5) doesn't work?\n",
    "\n",
    "console.log(`costel.a=${costel.a}`);"
   ]
  },
  {
   "cell_type": "code",
   "execution_count": null,
   "metadata": {},
   "outputs": [],
   "source": [
    "function InheritedOldJsClass() {\n",
    "    this.z = 1;\n",
    "    this.w = 2;\n",
    "}\n",
    "\n",
    "const inheritedPropertiesAndMethods = Object.create(OldSchoolJsClass.prototype);\n",
    "console.log(Object.getOwnPropertyNames(inheritedPropertiesAndMethods));\n",
    "console.log(Object.getOwnPropertyNames(inheritedPropertiesAndMethods.__proto__));\n",
    "\n",
    "InheritedOldJsClass.prototype = inheritedPropertiesAndMethods;\n",
    "InheritedOldJsClass.prototype.c = 5;\n",
    "\n",
    "const cornel = new InheritedOldJsClass();\n",
    "\n",
    "console.log(Object.getOwnPropertyNames(cornel));\n",
    "// aka Object.getOwnPropertyNames(cornel.__proto__)\n",
    "console.log(Object.getOwnPropertyNames(Object.getPrototypeOf(cornel)));\n",
    "console.log(Object.getOwnPropertyNames(cornel.__proto__.__proto__));\n",
    "\n",
    "console.log(`z=${cornel.z}, w=${cornel.w}, b=${cornel.b}, c=${cornel.c}`);\n",
    "\n",
    "cornel.incrementA(5); // why is it printing this?"
   ]
  },
  {
   "cell_type": "code",
   "execution_count": null,
   "metadata": {},
   "outputs": [],
   "source": [
    "class ParentClass {\n",
    "\n",
    "    constructor() {\n",
    "        this.a = 1;\n",
    "        this.b = 2;\n",
    "        this.c = 4;\n",
    "    }\n",
    "\n",
    "    incrementA(value) {\n",
    "        console.log(`[BEFORE]: this.a=${this.a}`);\n",
    "        this.a += value;\n",
    "        console.log(`[AFTER]: this.a=${this.a}`);\n",
    "    }\n",
    "}\n",
    "\n",
    "class ChildClass extends ParentClass {\n",
    "    \n",
    "    constructor() {\n",
    "        super();\n",
    "\n",
    "        this.x = 1;\n",
    "        this.y = 2;\n",
    "        this.a = 10;\n",
    "    }\n",
    "}\n",
    "\n",
    "const parentInstance = new ParentClass();\n",
    "console.log(Object.getOwnPropertyNames(parentInstance));\n",
    "// aka Object.getOwnPropertyNames(parentInstance.__proto___)\n",
    "console.log(Object.getOwnPropertyNames(Object.getPrototypeOf(parentInstance))); \n",
    "\n",
    "const childInstance = new ChildClass();\n",
    "console.log(Object.getOwnPropertyNames(childInstance));\n",
    "// aka Object.getOwnPropertyNames(childInstance.__proto___)\n",
    "console.log(Object.getOwnPropertyNames(Object.getPrototypeOf(childInstance)));"
   ]
  },
  {
   "cell_type": "code",
   "execution_count": null,
   "metadata": {},
   "outputs": [],
   "source": [
    "parentInstance.incrementA(5);\n",
    "console.log(`parent.a = ${parentInstance.a}`);\n",
    "\n",
    "childInstance.incrementA(5);\n",
    "console.log(`child.a = ${childInstance.a}`);\n",
    "\n",
    "// Always bind the method to the instance before passing it as a reference\n",
    "// Also, spot the binding\n",
    "setTimeout(parentInstance.incrementA.bind(childInstance), 1000, 5);"
   ]
  },
  {
   "cell_type": "markdown",
   "metadata": {},
   "source": [
    "### Arrow functions"
   ]
  },
  {
   "cell_type": "markdown",
   "metadata": {},
   "source": [
    "From now on I'll mainly use arrow functions.\n",
    "\n",
    "The main take away:\n",
    "* Should not be used as methods\n",
    "* Not suitable for call, apply and bind functions\n",
    "\n",
    "They are much nicer to use, but take care that they capture 'this' at the moment they are defined, as opposed to regular functions that can be binded at call time to whatever 'this' you like.\n",
    "\n",
    "For more details read https://developer.mozilla.org/en-US/docs/Web/JavaScript/Reference/Functions/Arrow_functions\n"
   ]
  },
  {
   "cell_type": "markdown",
   "metadata": {},
   "source": [
    "### Callbaks vs Promises vs async / await"
   ]
  },
  {
   "cell_type": "markdown",
   "metadata": {},
   "source": [
    "A Promise is a proxy for a value not necessarily known when the promise is created.\n",
    "\n",
    "It's the modern replacement for the callback pattern, known also as the callback hell. \n",
    "\n",
    "I'm wondering why?"
   ]
  },
  {
   "cell_type": "code",
   "execution_count": null,
   "metadata": {},
   "outputs": [],
   "source": [
    "function doSomething(someArg, callback) {\n",
    "    setTimeout(/* function: */callback, /* delay: */1000, /* arg1 */null, /* arg2: */`${someArg}: great success`);\n",
    "}\n",
    "\n",
    "function doSomethingElse(someArg, callback) {\n",
    "    setTimeout(/* function: */callback, /* delay: */1000, /* arg1 */null, /* arg2: */`${someArg}: not good, not terrible`);\n",
    "}\n",
    "\n",
    "function dropItLikeItsHot(callback) {\n",
    "    setTimeout(/* function: */callback, /* delay: */1000, /* arg1 */new Error('wrong pocket, my son'), /* arg2: */null);\n",
    "}\n",
    "\n",
    "function hardToImplementCorrectly(someArg, callback) {\n",
    "    \n",
    "    let endResult = '';\n",
    "    let errorEncountered = null;\n",
    "    let asyncCallsToComplete = 3;\n",
    "    \n",
    "    doSomething(someArg, (err, result) => {\n",
    "    \n",
    "        --asyncCallsToComplete;\n",
    "        \n",
    "        if (err) {\n",
    "            callback(err, null);\n",
    "            return; // early return because operations below depend on this result\n",
    "        }\n",
    "        \n",
    "        endResult += result;\n",
    "\n",
    "        doSomethingElse(result, (err, result) => {\n",
    "\n",
    "            if (err) {\n",
    "                errorEncountered = err;\n",
    "            } else {\n",
    "                endResult += result;\n",
    "            }\n",
    "            \n",
    "            if (--asyncCallsToComplete === 0) {\n",
    "                \n",
    "                if (err) {\n",
    "                    callback(errorEncountered, null);\n",
    "                } else {\n",
    "                    callback(null, endResult);\n",
    "                }\n",
    "            }\n",
    "        });\n",
    "        \n",
    "        dropItLikeItsHot((err, result) => {\n",
    "\n",
    "            if (err) {\n",
    "                errorEncountered = err;\n",
    "            } else {\n",
    "                endResult += result;\n",
    "            }\n",
    "            \n",
    "            if (--asyncCallsToComplete === 0) {\n",
    "                \n",
    "                if (err) {\n",
    "                    callback(errorEncountered, null);\n",
    "                } else {\n",
    "                    callback(null, endResult);\n",
    "                }\n",
    "            }\n",
    "        });    \n",
    "    });\n",
    "}\n",
    "\n",
    "hardToImplementCorrectly('Borat', (err, res) => {\n",
    "    if (err) {\n",
    "        console.error(err);\n",
    "        return;\n",
    "    }\n",
    "    console.info(res);\n",
    "});"
   ]
  },
  {
   "cell_type": "markdown",
   "metadata": {},
   "source": [
    "Promises simplify control flow, although not enough, by chaining callbacks instead of nesting them."
   ]
  },
  {
   "cell_type": "code",
   "execution_count": null,
   "metadata": {},
   "outputs": [],
   "source": [
    "function doSomething(someArg) {\n",
    "\n",
    "    return new Promise((resolve, reject) => {\n",
    "        setTimeout(/* function: */resolve, /* delay: */1000, /* arg: */`${someArg}: great success`);\n",
    "    });\n",
    "}\n",
    "\n",
    "function doSomethingElse(someArg) {\n",
    "    \n",
    "    return new Promise((resolve, reject) => {\n",
    "        setTimeout(/* function: */resolve, /* delay: */1000, /* arg: */`${someArg}: not good, not terrible`);\n",
    "    });\n",
    "}\n",
    "\n",
    "function dropItLikeItsHot() {\n",
    "    \n",
    "    return new Promise((resolve, reject) => {\n",
    "         setTimeout(/* function: */reject, /* delay: */1000, /* arg */new Error('wrong pocket, my son'));\n",
    "    });\n",
    "}\n",
    "\n",
    "function easierToImplementCorrectly(someArg) {\n",
    "    \n",
    "    return doSomething(someArg)\n",
    "        .then((result) => {\n",
    "\n",
    "            return Promise.all([\n",
    "                doSomethingElse(result),\n",
    "                dropItLikeItsHot()\n",
    "            ]);\n",
    "        })\n",
    "        .then(([resultSomethingElse, resultDropItLikeItsHot]) => resultSomethingElse + resultDropItLikeItsHot);\n",
    "}\n",
    "\n",
    "easierToImplementCorrectly('Borat')\n",
    "    .then(result => console.log(result))\n",
    "    .catch(err => console.error(err));"
   ]
  },
  {
   "cell_type": "markdown",
   "metadata": {},
   "source": [
    "The most recent simplification to Promises API is async / await, which allows to suspend an async function execution while waiting for a Promise to either resolve or reject.\n",
    "\n",
    "In this way, you can write code in an imperative manner, like you would do when using synchronous APIs.\n",
    "\n",
    "Also, it allows to perform error handling with try { } catch { } blocks that, again, resemble to synchronous implementations. "
   ]
  },
  {
   "cell_type": "code",
   "execution_count": null,
   "metadata": {},
   "outputs": [],
   "source": [
    "async function stronglyRecommendedImplementation(someArg) {\n",
    "    \n",
    "    const result = await doSomething(someArg);\n",
    "    const [resultSomethingElse, resultDropItLikeItsHot] = await Promise.all([\n",
    "        doSomethingElse(result),\n",
    "        dropItLikeItsHot()\n",
    "    ]);\n",
    "    return resultSomethingElse + resultDropItLikeItsHot;\n",
    "}\n",
    "\n",
    "(async () => { // this is because we cannot use await keyword top level, just in async functions\n",
    "    \n",
    "    try {\n",
    "        await stronglyRecommendedImplementation('Borat');\n",
    "    } catch (err) {\n",
    "        console.error(err);\n",
    "    }\n",
    "    \n",
    "})();"
   ]
  }
 ],
 "metadata": {
  "kernelspec": {
   "display_name": "JavaScript (Node.js)",
   "language": "javascript",
   "name": "javascript"
  },
  "language_info": {
   "file_extension": ".js",
   "mimetype": "application/javascript",
   "name": "javascript",
   "version": "18.2.0"
  }
 },
 "nbformat": 4,
 "nbformat_minor": 2
}
